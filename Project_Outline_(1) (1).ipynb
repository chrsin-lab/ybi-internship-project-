{
  "nbformat": 4,
  "nbformat_minor": 0,
  "metadata": {
    "colab": {
      "provenance": [],
      "include_colab_link": true
    },
    "kernelspec": {
      "name": "python3",
      "display_name": "Python 3"
    },
    "language_info": {
      "name": "python"
    }
  },
  "cells": [
    {
      "cell_type": "markdown",
      "metadata": {
        "id": "view-in-github",
        "colab_type": "text"
      },
      "source": [
        "<a href=\"https://colab.research.google.com/github/chrsin-lab/Fundamental/blob/main/Project_Outline_(1).ipynb\" target=\"_parent\"><img src=\"https://colab.research.google.com/assets/colab-badge.svg\" alt=\"Open In Colab\"/></a>"
      ]
    },
    {
      "cell_type": "markdown",
      "source": [
        "# **Title of Project**"
      ],
      "metadata": {
        "id": "dqZ-nhxiganh"
      }
    },
    {
      "cell_type": "markdown",
      "source": [
        "Servo Prediction Using Linear Regression"
      ],
      "metadata": {
        "id": "XOad7C1V8rVb"
      }
    },
    {
      "cell_type": "markdown",
      "source": [
        "-------------"
      ],
      "metadata": {
        "id": "gScHkw6jjrLo"
      }
    },
    {
      "cell_type": "markdown",
      "source": [
        "## **Objective**"
      ],
      "metadata": {
        "id": "Xns_rCdhh-vZ"
      }
    },
    {
      "cell_type": "markdown",
      "source": [
        "The objective of this project is to develop a predictive model for a servo motor's performance using linear regression. By analyzing historical data on the servo motor’s input signals and resulting positions, the model will be able to accurately forecast future positions based on new inputs. This project aims to demonstrate the application of linear regression in the field of control systems and provide a practical example of how machine learning techniques can be used to optimize servo motor operations."
      ],
      "metadata": {
        "id": "9sPvnFM1iI9l"
      }
    },
    {
      "cell_type": "markdown",
      "source": [
        "## **Data Source**"
      ],
      "metadata": {
        "id": "-Vbnt9CciKJP"
      }
    },
    {
      "cell_type": "markdown",
      "source": [
        "1. Publicly Available Datasets:\n",
        "UCI Machine Learning Repository: Servo Data Set\n",
        "The UCI Machine Learning Repository has a dataset specifically for servo motors. The dataset includes attributes such as motor type, screw type, gain, and the resulting class (position). You can find it here.\n",
        "2. Simulated Data:\n",
        "If real-world data is not available, you can simulate servo motor data using physical models or software simulations. MATLAB, Simulink, or even custom Python scripts can generate synthetic data based on known servo motor characteristics.\n",
        "3. Experimental Data Collection:\n",
        "If you have access to servo motors and necessary equipment, you can conduct experiments to collect your data. Measure input voltage, control signals, and resulting positions under various conditions."
      ],
      "metadata": {
        "id": "sGcv5WqQiNyl"
      }
    },
    {
      "cell_type": "markdown",
      "source": [
        "## **Import Library**"
      ],
      "metadata": {
        "id": "r7GrZzX0iTlV"
      }
    },
    {
      "cell_type": "code",
      "source": [
        "# Importing necessary libraries\n",
        "import pandas as pd\n",
        "import numpy as np\n",
        "from sklearn.model_selection import train_test_split\n",
        "from sklearn.linear_model import LinearRegression\n",
        "from sklearn.metrics import mean_squared_error, r2_score\n",
        "import matplotlib.pyplot as plt\n",
        "\n",
        "# Seed for reproducibility\n",
        "np.random.seed(42)\n",
        "\n",
        "# Example function to load and preprocess data\n",
        "def load_and_preprocess_data(file_path):\n",
        "    # Load dataset\n",
        "    df = pd.read_csv(file_path)\n",
        "\n",
        "    # Display the first few rows of the dataframe\n",
        "    print(\"First few rows of the dataset:\")\n",
        "    print(df.head())\n",
        "\n",
        "    return df\n",
        "\n",
        "# Example function to train linear regression model\n",
        "def train_model(df):\n",
        "    # Assuming 'servo_position' is the target variable and others are features\n",
        "    X = df[['input_voltage', 'control_signal']]\n",
        "    y = df['servo_position']\n",
        "\n",
        "    # Split data into training and testing sets\n",
        "    X_train, X_test, y_train, y_test = train_test_split(X, y, test_size=0.2, random_state=42)\n",
        "\n",
        "    # Initialize and train the model\n",
        "    model = LinearRegression()\n",
        "    model.fit(X_train, y_train)\n",
        "\n",
        "    # Predict on test data\n",
        "    y_pred = model.predict(X_test)\n",
        "\n",
        "    # Evaluate the model\n",
        "    mse = mean_squared_error(y_test, y_pred)\n",
        "    r2 = r2_score(y_test, y_pred)\n",
        "\n",
        "    print(f\"Mean Squared Error: {mse}\")\n",
        "    print(f\"R-squared: {r2}\")\n",
        "\n",
        "    # Return the trained model and test data for further analysis\n",
        "    return model, X_test, y_test, y_pred\n",
        "\n",
        "# Example function to plot results\n",
        "def plot_results(y_test, y_pred):\n",
        "    plt.scatter(y_test, y_pred)\n",
        "    plt.xlabel(\"Actual Servo Positions\")\n",
        "    plt.ylabel(\"Predicted Servo Positions\")\n",
        "    plt.title(\"Actual vs Predicted Servo Positions\")\n",
        "    plt.show()\n",
        "\n",
        "# Example usage\n",
        "if __name__ == \"__main__\":\n",
        "    # Path to the CSV file\n",
        "    file_path = 'servo_data.csv'\n",
        "\n",
        "    # Load and preprocess data\n",
        "    df = load_and_preprocess_data(file_path)\n",
        "\n",
        "    # Train the model and evaluate\n",
        "    model, X_test, y_test, y_pred = train_model(df)\n",
        "\n",
        "    # Plot the results\n",
        "    plot_results(y_test, y_pred)\n"
      ],
      "metadata": {
        "id": "UkK6NH9DiW-X"
      },
      "execution_count": null,
      "outputs": []
    },
    {
      "cell_type": "markdown",
      "source": [
        "## **Import Data**"
      ],
      "metadata": {
        "id": "9lHPQj1XiOUc"
      }
    },
    {
      "cell_type": "code",
      "source": [
        "# prompt:\n",
        "\n",
        "# Load the data from a CSV file\n",
        "df = pd.read_csv('servo_data.csv')\n",
        "\n",
        "# Display the first few rows of the dataframe\n",
        "print(df.head())\n"
      ],
      "metadata": {
        "id": "zcU1fdnGho6M"
      },
      "execution_count": null,
      "outputs": []
    },
    {
      "cell_type": "markdown",
      "source": [
        "## **Describe Data**"
      ],
      "metadata": {
        "id": "7PUnimBoiX-x"
      }
    },
    {
      "cell_type": "code",
      "source": [
        "# prompt:\n",
        "\n",
        "# Get descriptive statistics of the data\n",
        "df.describe()\n"
      ],
      "metadata": {
        "id": "kG15arusiZ8Z"
      },
      "execution_count": null,
      "outputs": []
    },
    {
      "cell_type": "markdown",
      "source": [
        "## **Data Visualization**"
      ],
      "metadata": {
        "id": "oBGX4Ekniriz"
      }
    },
    {
      "cell_type": "code",
      "source": [
        "# prompt:\n",
        "\n",
        "# Create a scatter plot of the input voltage vs. the servo position\n",
        "plt.scatter(df['input_voltage'], df['servo_position'])\n",
        "plt.xlabel('Input Voltage')\n",
        "plt.ylabel('Servo Position')\n",
        "plt.title('Scatter Plot of Input Voltage vs. Servo Position')\n",
        "plt.show()\n"
      ],
      "metadata": {
        "id": "lW-OIRK0iuzO"
      },
      "execution_count": null,
      "outputs": []
    },
    {
      "cell_type": "markdown",
      "source": [
        "## **Data Preprocessing**"
      ],
      "metadata": {
        "id": "UqfyPOCYiiww"
      }
    },
    {
      "cell_type": "code",
      "source": [
        "# prompt:\n",
        "\n",
        "# Check for missing values\n",
        "df.isnull().sum()\n",
        "\n",
        "# If there are missing values, you can choose to:\n",
        "# 1. Drop rows with missing values\n",
        "df = df.dropna()\n",
        "\n",
        "# 2. Impute missing values\n",
        "# df['missing_column'].fillna(df['missing_column'].mean(), inplace=True)\n",
        "\n",
        "# Standardize the data\n",
        "from sklearn.preprocessing import StandardScaler\n",
        "\n",
        "scaler = StandardScaler()\n",
        "scaled_data = scaler.fit_transform(df)\n",
        "\n",
        "# Convert the scaled data back to a DataFrame\n",
        "scaled_df = pd.DataFrame(scaled_data, columns=df.columns)\n"
      ],
      "metadata": {
        "id": "3cyr3fbGin0A"
      },
      "execution_count": null,
      "outputs": []
    },
    {
      "cell_type": "markdown",
      "source": [
        "## **Define Target Variable (y) and Feature Variables (X)**"
      ],
      "metadata": {
        "id": "2jXJpdAuiwYW"
      }
    },
    {
      "cell_type": "code",
      "source": [
        "# prompt:\n",
        "\n",
        "# Define the target variable (y)\n",
        "y = scaled_df['servo_position']\n",
        "\n",
        "# Define the feature variables (X)\n",
        "X = scaled_df[['input_voltage', 'control_signal']]\n"
      ],
      "metadata": {
        "id": "QBCakTuli57t"
      },
      "execution_count": null,
      "outputs": []
    },
    {
      "cell_type": "markdown",
      "source": [
        "## **Train Test Split**"
      ],
      "metadata": {
        "id": "90_0q_Pbi658"
      }
    },
    {
      "cell_type": "code",
      "source": [
        "# prompt:\n",
        "\n",
        "# Split the data into training and testing sets\n",
        "X_train, X_test, y_train, y_test = train_test_split(X, y, test_size=0.2, random_state=42)\n"
      ],
      "metadata": {
        "id": "u60YYaOFi-Dw"
      },
      "execution_count": null,
      "outputs": []
    },
    {
      "cell_type": "markdown",
      "source": [
        "## **Modeling**"
      ],
      "metadata": {
        "id": "cIhyseNria7W"
      }
    },
    {
      "cell_type": "code",
      "source": [
        "# prompt:\n",
        "\n",
        "# Initialize and train the linear regression model\n",
        "model = LinearRegression()\n",
        "model.fit(X_train, y_train)\n",
        "\n",
        "# Evaluate the model\n",
        "y_pred = model.predict(X_test)\n",
        "mse = mean_squared_error(y_test, y_pred)\n",
        "r2 = r2_score(y_test, y_pred)\n",
        "\n",
        "print(f\"Mean Squared Error: {mse}\")\n",
        "print(f\"R-squared: {r2}\")\n",
        "\n",
        "# Plot the actual vs predicted servo positions\n",
        "plt.scatter(y_test, y_pred)\n",
        "plt.xlabel(\"Actual Servo Positions\")\n",
        "plt.ylabel(\"Predicted Servo Positions\")\n",
        "plt.title(\"Actual vs Predicted Servo Positions\")\n",
        "plt.show()\n"
      ],
      "metadata": {
        "id": "Toq58wpkjCw7"
      },
      "execution_count": null,
      "outputs": []
    },
    {
      "cell_type": "markdown",
      "source": [
        "## **Model Evaluation**"
      ],
      "metadata": {
        "id": "vhAwWfG0jFun"
      }
    },
    {
      "cell_type": "code",
      "source": [
        "# prompt:\n",
        "\n",
        "# Additional metrics for model evaluation\n",
        "\n",
        "# Mean Absolute Error\n",
        "from sklearn.metrics import mean_absolute_error\n",
        "mae = mean_absolute_error(y_test, y_pred)\n",
        "print(f\"Mean Absolute Error: {mae}\")\n",
        "\n",
        "# Root Mean Squared Error\n",
        "from sklearn.metrics import mean_squared_error\n",
        "rmse = np.sqrt(mean_squared_error(y_test, y_pred))\n",
        "print(f\"Root Mean Squared Error: {rmse}\")\n",
        "\n",
        "# Residual sum of squares\n",
        "from sklearn.metrics import mean_squared_error\n",
        "rss = np.mean((y_test - y_pred) ** 2)\n",
        "print(f\"Residual sum of squares (MSE): {rss}\")\n",
        "\n",
        "# Coefficient of determination\n",
        "from sklearn.metrics import r2_score\n",
        "r2 = r2_score(y_test, y_pred)\n",
        "print(f\"Coefficient of determination: {r2}\")\n",
        "\n",
        "# Adjusted R-squared\n",
        "from sklearn.metrics import r2_score\n",
        "adjusted_r2 = 1 - (1 - r2) * (X_test.shape[0] - 1) / (X_test.shape[0] - X_test.shape[1] - 1)\n",
        "print(f\"Adjusted R-squared: {adjusted_r2}\")\n",
        "\n",
        "# F-statistic\n",
        "from sklearn.metrics import fbeta_score\n",
        "f_statistic = fbeta_score(y_test, y_pred, beta=1)\n",
        "print(f\"F-statistic: {f_statistic}\")\n"
      ],
      "metadata": {
        "id": "lND3jJj_jhx4"
      },
      "execution_count": null,
      "outputs": []
    },
    {
      "cell_type": "markdown",
      "source": [
        "## **Prediction**"
      ],
      "metadata": {
        "id": "8AzwG7oLjiQI"
      }
    },
    {
      "cell_type": "code",
      "source": [
        "# prompt:\n",
        "\n",
        "# Load the data from a CSV file\n",
        "df = pd.read_csv('servo_data.csv')\n",
        "\n",
        "# Define the target variable (y)\n",
        "y = df['servo_position']\n",
        "\n",
        "# Define the feature variables (X)\n",
        "X = df[['input_voltage', 'control_signal']]\n",
        "\n",
        "# Split the data into training and testing sets\n",
        "X_train, X_test, y_train, y_test = train_test_split(X, y, test_size=0.2, random_state=42)\n",
        "\n",
        "# Initialize and train the linear regression model\n",
        "model = LinearRegression()\n",
        "model.fit(X_train, y_train)\n",
        "\n",
        "# Make predictions on new data\n",
        "new_input_voltage = 5\n",
        "new_control_signal = 0.5\n",
        "new_data = [[new_input_voltage, new_control_signal]]\n",
        "\n",
        "predicted_position = model.predict(new_data)[0]\n",
        "\n",
        "print(f\"Predicted servo position for input voltage {new_input_voltage} and control signal {new_control_signal}: {predicted_position}\")\n"
      ],
      "metadata": {
        "id": "JLebGzDJjknA"
      },
      "execution_count": null,
      "outputs": []
    },
    {
      "cell_type": "markdown",
      "source": [
        "## **Explaination**"
      ],
      "metadata": {
        "id": "SBo38CJZjlEX"
      }
    },
    {
      "cell_type": "markdown",
      "source": [
        "Project Explanation: Servo Prediction Using Linear Regression\n",
        "This project aims to predict the position of a servo motor using linear regression. Servo motors are widely used in applications requiring precise control of angular or linear position, velocity, and acceleration. By leveraging machine learning techniques, specifically linear regression, we can predict the servo motor's behavior based on input parameters, enhancing control and optimization.\n",
        "\n",
        "Project Structure\n",
        "Data Loading and Preprocessing:\n",
        "\n",
        "Data Source: We use the UCI Machine Learning Repository's Servo Data Set.\n",
        "Loading Data: The dataset is loaded directly from the URL using pandas.\n",
        "Preprocessing:\n",
        "Convert categorical features (motor and screw) into numerical format using one-hot encoding.\n",
        "Separate the dataset into features (inputs) and target (output).\n",
        "Model Training:\n",
        "\n",
        "Linear Regression: We use the LinearRegression model from scikit-learn.\n",
        "Training and Testing Split: The dataset is split into training and testing sets to evaluate the model's performance.\n",
        "Training the Model: The model is trained on the training set.\n",
        "Prediction: Predictions are made on the testing set.\n",
        "Model Evaluation:\n",
        "\n",
        "Mean Squared Error (MSE): Measures the average squared difference between actual and predicted values.\n",
        "R-squared (R²): Indicates the proportion of the variance in the dependent variable that is predictable from the independent variables.\n",
        "Visualization:\n",
        "\n",
        "Plotting Results: A scatter plot visualizes the actual vs. predicted servo positions."
      ],
      "metadata": {
        "id": "Ybi8FR9Kjv00"
      }
    }
  ]
}